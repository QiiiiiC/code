{
 "cells": [
  {
   "cell_type": "code",
   "execution_count": 1,
   "metadata": {},
   "outputs": [],
   "source": [
    "from cmdstanpy import CmdStanModel\n",
    "import numpy as np\n",
    "import pandas as pd\n",
    "import seaborn as sns\n",
    "import matplotlib.pyplot as plt\n",
    "import random\n",
    "from scipy.stats import gamma\n",
    "from data_generate import popn1_simple_morgan,popn2_simple_data_morgan"
   ]
  },
  {
   "cell_type": "code",
   "execution_count": 6,
   "metadata": {},
   "outputs": [],
   "source": [
    "all_data = pd.DataFrame({'y':[],'u':[],'v':[],'group':[],'N':[],'T':[]})\n",
    "L = [0.5,1.10000]\n",
    "N = [2000,3000,4000,5000,6000,7000,8000,9000,10000,15000,20000,25000,30000]\n",
    "T = [50,100,150,200,300]\n",
    "for i in range(10):\n",
    "    for k in range(len(N)):\n",
    "        for t in T:\n",
    "            data = popn2_simple_data_morgan([N[k]]*3,t,L,2,1e7,20)\n",
    "            data['N'] = [N[k]]*len(data['y'])\n",
    "            data['T'] = [t]*len(data['y'])\n",
    "            all_data = pd.concat([all_data,pd.DataFrame(data)],ignore_index=True)\n",
    "        "
   ]
  }
 ],
 "metadata": {
  "kernelspec": {
   "display_name": "msprime-env",
   "language": "python",
   "name": "python3"
  },
  "language_info": {
   "codemirror_mode": {
    "name": "ipython",
    "version": 3
   },
   "file_extension": ".py",
   "mimetype": "text/x-python",
   "name": "python",
   "nbconvert_exporter": "python",
   "pygments_lexer": "ipython3",
   "version": "3.11.9"
  }
 },
 "nbformat": 4,
 "nbformat_minor": 2
}
