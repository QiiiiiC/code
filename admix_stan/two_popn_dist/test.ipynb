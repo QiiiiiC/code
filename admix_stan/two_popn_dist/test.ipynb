{
 "cells": [
  {
   "cell_type": "code",
   "execution_count": 1,
   "metadata": {},
   "outputs": [],
   "source": [
    "import numpy as np"
   ]
  },
  {
   "cell_type": "code",
   "execution_count": 16,
   "metadata": {},
   "outputs": [],
   "source": [
    "\n",
    "def dist_fun(N, t1, t2, l):\n",
    "    c = -(l / 50 + 1 / N)\n",
    "    output = (np.exp(c * t2) * ((c * t2)**2 - 2 * c * t2 + 2)) / c**3 - (np.exp(c * t1) * ((c * t1)**2 - 2 * c * t1 + 2)) / c**3\n",
    "    r = np.exp(t1 / N) / (2500 * N)\n",
    "    return r * output\n",
    "\n",
    "def dist_denom(N, t1, t2, u, v):\n",
    "    c1 = -(v / 50 + 1 / N)\n",
    "    c2 = -(u / 50 + 1 / N)\n",
    "    \n",
    "    k1 = (-1 / (50 * N)) * (np.exp(c1 * t2) * (c1 * t2 - 1) / c1**2  - np.exp(c1 * t1) * (c1 * t1 - 1) / c1**2)\n",
    "    k2 = (1 / (50 * N)) * (np.exp(c2 * t2) * (c2 * t2 - 1) / c2**2 - np.exp(c2 * t1) * (c2 * t1 - 1) / c2**2)\n",
    "    \n",
    "    r = np.exp(t1 / N)\n",
    "    return r * (k1 + k2)\n"
   ]
  },
  {
   "cell_type": "code",
   "execution_count": 15,
   "metadata": {},
   "outputs": [
    {
     "data": {
      "text/plain": [
       "0.00019411802958552892"
      ]
     },
     "execution_count": 15,
     "metadata": {},
     "output_type": "execute_result"
    }
   ],
   "source": [
    "dist_fun(5000,0,1000000,1)/dist_denom(5000,0,1000000,0,100000000)"
   ]
  },
  {
   "cell_type": "code",
   "execution_count": 13,
   "metadata": {},
   "outputs": [
    {
     "data": {
      "text/plain": [
       "0.01941180295855289"
      ]
     },
     "execution_count": 13,
     "metadata": {},
     "output_type": "execute_result"
    }
   ],
   "source": [
    "4*5000/((2*0.01*5000+1)**3)"
   ]
  }
 ],
 "metadata": {
  "kernelspec": {
   "display_name": "msprime_stan",
   "language": "python",
   "name": "python3"
  },
  "language_info": {
   "codemirror_mode": {
    "name": "ipython",
    "version": 3
   },
   "file_extension": ".py",
   "mimetype": "text/x-python",
   "name": "python",
   "nbconvert_exporter": "python",
   "pygments_lexer": "ipython3",
   "version": "3.11.9"
  }
 },
 "nbformat": 4,
 "nbformat_minor": 2
}
