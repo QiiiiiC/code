{
 "cells": [
  {
   "cell_type": "code",
   "execution_count": 2,
   "metadata": {},
   "outputs": [],
   "source": [
    "from cmdstanpy import CmdStanModel\n",
    "import numpy as np\n",
    "import pandas as pd\n",
    "import seaborn as sns\n",
    "import matplotlib.pyplot as plt\n",
    "import random"
   ]
  },
  {
   "cell_type": "code",
   "execution_count": 14,
   "metadata": {},
   "outputs": [
    {
     "name": "stderr",
     "output_type": "stream",
     "text": [
      "00:53:02 - cmdstanpy - INFO - compiling stan file /Users/qichen/Desktop/genetics/code/admix_stan/generalized_noadmix_expected_fraction/generalized_noadmix_model.stan to exe file /Users/qichen/Desktop/genetics/code/admix_stan/generalized_noadmix_expected_fraction/generalized_noadmix_model\n",
      "00:53:10 - cmdstanpy - INFO - compiled model executable: /Users/qichen/Desktop/genetics/code/admix_stan/generalized_noadmix_expected_fraction/generalized_noadmix_model\n"
     ]
    }
   ],
   "source": [
    "model = CmdStanModel(stan_file='generalized_noadmix_model.stan')"
   ]
  },
  {
   "cell_type": "code",
   "execution_count": 9,
   "metadata": {},
   "outputs": [
    {
     "name": "stderr",
     "output_type": "stream",
     "text": [
      "00:39:09 - cmdstanpy - INFO - compiling stan file /Users/qichen/Desktop/genetics/code/admix_stan/generalized_noadmix_expected_fraction/simple.stan to exe file /Users/qichen/Desktop/genetics/code/admix_stan/generalized_noadmix_expected_fraction/simple\n",
      "00:39:15 - cmdstanpy - INFO - compiled model executable: /Users/qichen/Desktop/genetics/code/admix_stan/generalized_noadmix_expected_fraction/simple\n"
     ]
    }
   ],
   "source": [
    "model = CmdStanModel(stan_file='simple.stan')"
   ]
  }
 ],
 "metadata": {
  "kernelspec": {
   "display_name": "msprime_stan",
   "language": "python",
   "name": "python3"
  },
  "language_info": {
   "codemirror_mode": {
    "name": "ipython",
    "version": 3
   },
   "file_extension": ".py",
   "mimetype": "text/x-python",
   "name": "python",
   "nbconvert_exporter": "python",
   "pygments_lexer": "ipython3",
   "version": "3.11.9"
  }
 },
 "nbformat": 4,
 "nbformat_minor": 2
}
