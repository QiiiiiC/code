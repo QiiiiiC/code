{
 "cells": [
  {
   "cell_type": "code",
   "execution_count": 1,
   "metadata": {},
   "outputs": [
    {
     "name": "stderr",
     "output_type": "stream",
     "text": [
      "c:\\Users\\Qi\\anaconda3\\envs\\msprime_env\\Lib\\site-packages\\tqdm\\auto.py:21: TqdmWarning: IProgress not found. Please update jupyter and ipywidgets. See https://ipywidgets.readthedocs.io/en/stable/user_install.html\n",
      "  from .autonotebook import tqdm as notebook_tqdm\n"
     ]
    }
   ],
   "source": [
    "from cmdstanpy import CmdStanModel\n",
    "import numpy as np\n",
    "import pandas as pd\n",
    "import seaborn as sns\n",
    "import matplotlib.pyplot as plt\n",
    "import random"
   ]
  },
  {
   "cell_type": "code",
   "execution_count": 19,
   "metadata": {},
   "outputs": [],
   "source": [
    "model = CmdStanModel(stan_file='generalized_noadmix_model.stan')"
   ]
  },
  {
   "cell_type": "code",
   "execution_count": 20,
   "metadata": {},
   "outputs": [
    {
     "name": "stderr",
     "output_type": "stream",
     "text": [
      "20:02:10 - cmdstanpy - INFO - CmdStan start processing\n"
     ]
    },
    {
     "data": {
      "application/vnd.jupyter.widget-view+json": {
       "model_id": "339bc8d52ede41ca8744b91d4b99c003",
       "version_major": 2,
       "version_minor": 0
      },
      "text/plain": [
       "chain 1 |          | 00:00 Status"
      ]
     },
     "metadata": {},
     "output_type": "display_data"
    },
    {
     "data": {
      "application/vnd.jupyter.widget-view+json": {
       "model_id": "5da93e5644574631a05bc97ccf68f48d",
       "version_major": 2,
       "version_minor": 0
      },
      "text/plain": [
       "chain 2 |          | 00:00 Status"
      ]
     },
     "metadata": {},
     "output_type": "display_data"
    },
    {
     "data": {
      "application/vnd.jupyter.widget-view+json": {
       "model_id": "1dee030bf7954a5c9abd77d581971739",
       "version_major": 2,
       "version_minor": 0
      },
      "text/plain": [
       "chain 3 |          | 00:00 Status"
      ]
     },
     "metadata": {},
     "output_type": "display_data"
    },
    {
     "data": {
      "application/vnd.jupyter.widget-view+json": {
       "model_id": "ce7db21c5e8048f5a96fecf498b56168",
       "version_major": 2,
       "version_minor": 0
      },
      "text/plain": [
       "chain 4 |          | 00:00 Status"
      ]
     },
     "metadata": {},
     "output_type": "display_data"
    },
    {
     "name": "stdout",
     "output_type": "stream",
     "text": [
      "                                                                                                                                                                                                                                                                                                                                "
     ]
    },
    {
     "name": "stderr",
     "output_type": "stream",
     "text": [
      "20:04:18 - cmdstanpy - INFO - CmdStan done processing.\n",
      "20:04:18 - cmdstanpy - WARNING - Non-fatal error during sampling:\n",
      "Exception: normal_lpdf: Location parameter is -inf, but must be finite! (in 'generalized_noadmix_model.stan', line 97, column 6 to column 36)\n",
      "\tException: normal_lpdf: Location parameter is nan, but must be finite! (in 'generalized_noadmix_model.stan', line 97, column 6 to column 36)\n",
      "\tException: normal_lpdf: Location parameter is nan, but must be finite! (in 'generalized_noadmix_model.stan', line 97, column 6 to column 36)\n",
      "\tException: normal_lpdf: Location parameter is nan, but must be finite! (in 'generalized_noadmix_model.stan', line 97, column 6 to column 36)\n",
      "\tException: normal_lpdf: Location parameter is nan, but must be finite! (in 'generalized_noadmix_model.stan', line 97, column 6 to column 36)\n",
      "\tException: normal_lpdf: Location parameter is nan, but must be finite! (in 'generalized_noadmix_model.stan', line 97, column 6 to column 36)\n",
      "Exception: gamma_lpdf: Random variable is inf, but must be positive finite! (in 'generalized_noadmix_model.stan', line 89, column 6 to column 33)\n",
      "\tException: normal_lpdf: Location parameter is -inf, but must be finite! (in 'generalized_noadmix_model.stan', line 97, column 6 to column 36)\n",
      "\tException: normal_lpdf: Location parameter is nan, but must be finite! (in 'generalized_noadmix_model.stan', line 97, column 6 to column 36)\n",
      "\tException: normal_lpdf: Location parameter is nan, but must be finite! (in 'generalized_noadmix_model.stan', line 97, column 6 to column 36)\n",
      "Exception: normal_lpdf: Location parameter is nan, but must be finite! (in 'generalized_noadmix_model.stan', line 97, column 6 to column 36)\n",
      "\tException: normal_lpdf: Location parameter is nan, but must be finite! (in 'generalized_noadmix_model.stan', line 97, column 6 to column 36)\n",
      "\tException: normal_lpdf: Location parameter is nan, but must be finite! (in 'generalized_noadmix_model.stan', line 97, column 6 to column 36)\n",
      "Exception: normal_lpdf: Location parameter is nan, but must be finite! (in 'generalized_noadmix_model.stan', line 97, column 6 to column 36)\n",
      "\tException: normal_lpdf: Location parameter is nan, but must be finite! (in 'generalized_noadmix_model.stan', line 97, column 6 to column 36)\n",
      "Consider re-running with show_console=True if the above output is unclear!\n"
     ]
    },
    {
     "name": "stdout",
     "output_type": "stream",
     "text": [
      "\n"
     ]
    },
    {
     "data": {
      "text/html": [
       "<div>\n",
       "<style scoped>\n",
       "    .dataframe tbody tr th:only-of-type {\n",
       "        vertical-align: middle;\n",
       "    }\n",
       "\n",
       "    .dataframe tbody tr th {\n",
       "        vertical-align: top;\n",
       "    }\n",
       "\n",
       "    .dataframe thead th {\n",
       "        text-align: right;\n",
       "    }\n",
       "</style>\n",
       "<table border=\"1\" class=\"dataframe\">\n",
       "  <thead>\n",
       "    <tr style=\"text-align: right;\">\n",
       "      <th></th>\n",
       "      <th>Mean</th>\n",
       "      <th>MCSE</th>\n",
       "      <th>StdDev</th>\n",
       "      <th>5%</th>\n",
       "      <th>50%</th>\n",
       "      <th>95%</th>\n",
       "      <th>N_Eff</th>\n",
       "      <th>N_Eff/s</th>\n",
       "      <th>R_hat</th>\n",
       "    </tr>\n",
       "  </thead>\n",
       "  <tbody>\n",
       "    <tr>\n",
       "      <th>lp__</th>\n",
       "      <td>2.365680e+02</td>\n",
       "      <td>0.010946</td>\n",
       "      <td>1.96932</td>\n",
       "      <td>2.328510e+02</td>\n",
       "      <td>2.369070e+02</td>\n",
       "      <td>2.391280e+02</td>\n",
       "      <td>32366.8</td>\n",
       "      <td>73.1098</td>\n",
       "      <td>1.000110</td>\n",
       "    </tr>\n",
       "    <tr>\n",
       "      <th>N[1]</th>\n",
       "      <td>4.994050e+03</td>\n",
       "      <td>6.026700</td>\n",
       "      <td>1996.62000</td>\n",
       "      <td>2.222180e+03</td>\n",
       "      <td>4.730580e+03</td>\n",
       "      <td>8.647170e+03</td>\n",
       "      <td>109757.0</td>\n",
       "      <td>247.9180</td>\n",
       "      <td>1.000000</td>\n",
       "    </tr>\n",
       "    <tr>\n",
       "      <th>N[2]</th>\n",
       "      <td>5.002240e+03</td>\n",
       "      <td>6.022960</td>\n",
       "      <td>2005.76000</td>\n",
       "      <td>2.227230e+03</td>\n",
       "      <td>4.733880e+03</td>\n",
       "      <td>8.693080e+03</td>\n",
       "      <td>110901.0</td>\n",
       "      <td>250.5020</td>\n",
       "      <td>0.999972</td>\n",
       "    </tr>\n",
       "    <tr>\n",
       "      <th>N[3]</th>\n",
       "      <td>5.005310e+03</td>\n",
       "      <td>5.701920</td>\n",
       "      <td>2001.07000</td>\n",
       "      <td>2.224530e+03</td>\n",
       "      <td>4.737630e+03</td>\n",
       "      <td>8.671210e+03</td>\n",
       "      <td>123163.0</td>\n",
       "      <td>278.2000</td>\n",
       "      <td>0.999979</td>\n",
       "    </tr>\n",
       "    <tr>\n",
       "      <th>N[4]</th>\n",
       "      <td>4.993880e+03</td>\n",
       "      <td>5.895210</td>\n",
       "      <td>1998.05000</td>\n",
       "      <td>2.225650e+03</td>\n",
       "      <td>4.725030e+03</td>\n",
       "      <td>8.663720e+03</td>\n",
       "      <td>114872.0</td>\n",
       "      <td>259.4720</td>\n",
       "      <td>0.999999</td>\n",
       "    </tr>\n",
       "    <tr>\n",
       "      <th>N[5]</th>\n",
       "      <td>4.998140e+03</td>\n",
       "      <td>5.961470</td>\n",
       "      <td>1994.29000</td>\n",
       "      <td>2.220460e+03</td>\n",
       "      <td>4.742070e+03</td>\n",
       "      <td>8.653530e+03</td>\n",
       "      <td>111910.0</td>\n",
       "      <td>252.7820</td>\n",
       "      <td>1.000000</td>\n",
       "    </tr>\n",
       "    <tr>\n",
       "      <th>T[1]</th>\n",
       "      <td>4.007940e+01</td>\n",
       "      <td>0.120126</td>\n",
       "      <td>40.06770</td>\n",
       "      <td>2.060660e+00</td>\n",
       "      <td>2.773310e+01</td>\n",
       "      <td>1.197640e+02</td>\n",
       "      <td>111254.0</td>\n",
       "      <td>251.3000</td>\n",
       "      <td>1.000010</td>\n",
       "    </tr>\n",
       "    <tr>\n",
       "      <th>T[2]</th>\n",
       "      <td>4.007780e+01</td>\n",
       "      <td>0.119679</td>\n",
       "      <td>40.06840</td>\n",
       "      <td>2.101450e+00</td>\n",
       "      <td>2.785390e+01</td>\n",
       "      <td>1.205110e+02</td>\n",
       "      <td>112090.0</td>\n",
       "      <td>253.1870</td>\n",
       "      <td>0.999997</td>\n",
       "    </tr>\n",
       "    <tr>\n",
       "      <th>new_T[1]</th>\n",
       "      <td>0.000000e+00</td>\n",
       "      <td>NaN</td>\n",
       "      <td>0.00000</td>\n",
       "      <td>0.000000e+00</td>\n",
       "      <td>0.000000e+00</td>\n",
       "      <td>0.000000e+00</td>\n",
       "      <td>NaN</td>\n",
       "      <td>NaN</td>\n",
       "      <td>NaN</td>\n",
       "    </tr>\n",
       "    <tr>\n",
       "      <th>new_T[2]</th>\n",
       "      <td>4.007940e+01</td>\n",
       "      <td>0.120126</td>\n",
       "      <td>40.06770</td>\n",
       "      <td>2.060660e+00</td>\n",
       "      <td>2.773310e+01</td>\n",
       "      <td>1.197640e+02</td>\n",
       "      <td>111254.0</td>\n",
       "      <td>251.3000</td>\n",
       "      <td>1.000010</td>\n",
       "    </tr>\n",
       "    <tr>\n",
       "      <th>new_T[3]</th>\n",
       "      <td>8.015730e+01</td>\n",
       "      <td>0.169409</td>\n",
       "      <td>56.70510</td>\n",
       "      <td>1.445000e+01</td>\n",
       "      <td>6.716990e+01</td>\n",
       "      <td>1.900150e+02</td>\n",
       "      <td>112039.0</td>\n",
       "      <td>253.0730</td>\n",
       "      <td>1.000020</td>\n",
       "    </tr>\n",
       "    <tr>\n",
       "      <th>new_T[4]</th>\n",
       "      <td>1.000000e+09</td>\n",
       "      <td>NaN</td>\n",
       "      <td>0.00000</td>\n",
       "      <td>1.000000e+09</td>\n",
       "      <td>1.000000e+09</td>\n",
       "      <td>1.000000e+09</td>\n",
       "      <td>NaN</td>\n",
       "      <td>NaN</td>\n",
       "      <td>NaN</td>\n",
       "    </tr>\n",
       "  </tbody>\n",
       "</table>\n",
       "</div>"
      ],
      "text/plain": [
       "                  Mean      MCSE      StdDev            5%           50%  \\\n",
       "lp__      2.365680e+02  0.010946     1.96932  2.328510e+02  2.369070e+02   \n",
       "N[1]      4.994050e+03  6.026700  1996.62000  2.222180e+03  4.730580e+03   \n",
       "N[2]      5.002240e+03  6.022960  2005.76000  2.227230e+03  4.733880e+03   \n",
       "N[3]      5.005310e+03  5.701920  2001.07000  2.224530e+03  4.737630e+03   \n",
       "N[4]      4.993880e+03  5.895210  1998.05000  2.225650e+03  4.725030e+03   \n",
       "N[5]      4.998140e+03  5.961470  1994.29000  2.220460e+03  4.742070e+03   \n",
       "T[1]      4.007940e+01  0.120126    40.06770  2.060660e+00  2.773310e+01   \n",
       "T[2]      4.007780e+01  0.119679    40.06840  2.101450e+00  2.785390e+01   \n",
       "new_T[1]  0.000000e+00       NaN     0.00000  0.000000e+00  0.000000e+00   \n",
       "new_T[2]  4.007940e+01  0.120126    40.06770  2.060660e+00  2.773310e+01   \n",
       "new_T[3]  8.015730e+01  0.169409    56.70510  1.445000e+01  6.716990e+01   \n",
       "new_T[4]  1.000000e+09       NaN     0.00000  1.000000e+09  1.000000e+09   \n",
       "\n",
       "                   95%     N_Eff   N_Eff/s     R_hat  \n",
       "lp__      2.391280e+02   32366.8   73.1098  1.000110  \n",
       "N[1]      8.647170e+03  109757.0  247.9180  1.000000  \n",
       "N[2]      8.693080e+03  110901.0  250.5020  0.999972  \n",
       "N[3]      8.671210e+03  123163.0  278.2000  0.999979  \n",
       "N[4]      8.663720e+03  114872.0  259.4720  0.999999  \n",
       "N[5]      8.653530e+03  111910.0  252.7820  1.000000  \n",
       "T[1]      1.197640e+02  111254.0  251.3000  1.000010  \n",
       "T[2]      1.205110e+02  112090.0  253.1870  0.999997  \n",
       "new_T[1]  0.000000e+00       NaN       NaN       NaN  \n",
       "new_T[2]  1.197640e+02  111254.0  251.3000  1.000010  \n",
       "new_T[3]  1.900150e+02  112039.0  253.0730  1.000020  \n",
       "new_T[4]  1.000000e+09       NaN       NaN       NaN  "
      ]
     },
     "execution_count": 20,
     "metadata": {},
     "output_type": "execute_result"
    }
   ],
   "source": [
    "random.seed(40)\n",
    "fit = model.sample(data='generalized_popn_simulated_data.json',iter_warmup=2800,iter_sampling=20000)\n",
    "fit.summary()"
   ]
  },
  {
   "cell_type": "code",
   "execution_count": 21,
   "metadata": {},
   "outputs": [
    {
     "name": "stderr",
     "output_type": "stream",
     "text": [
      "20:06:05 - cmdstanpy - INFO - Chain [1] start processing\n",
      "20:06:13 - cmdstanpy - INFO - Chain [1] done processing\n",
      "20:06:13 - cmdstanpy - ERROR - Chain [1] error: error during processing Operation not permitted\n"
     ]
    },
    {
     "ename": "RuntimeError",
     "evalue": "The algorithm may not have converged.\nIf you would like to inspect the output, re-call with require_converged=False",
     "output_type": "error",
     "traceback": [
      "\u001b[0;31m---------------------------------------------------------------------------\u001b[0m",
      "\u001b[0;31mRuntimeError\u001b[0m                              Traceback (most recent call last)",
      "Cell \u001b[0;32mIn[21], line 1\u001b[0m\n\u001b[0;32m----> 1\u001b[0m fit_advi \u001b[38;5;241m=\u001b[39m \u001b[43mmodel\u001b[49m\u001b[38;5;241;43m.\u001b[39;49m\u001b[43mvariational\u001b[49m\u001b[43m(\u001b[49m\u001b[43mdata\u001b[49m\u001b[38;5;241;43m=\u001b[39;49m\u001b[38;5;124;43m'\u001b[39;49m\u001b[38;5;124;43mgeneralized_popn_simulated_data.json\u001b[39;49m\u001b[38;5;124;43m'\u001b[39;49m\u001b[43m)\u001b[49m\n\u001b[1;32m      2\u001b[0m \u001b[38;5;28mprint\u001b[39m(fit_advi\u001b[38;5;241m.\u001b[39mvariational_params_dict)\n",
      "File \u001b[0;32m~/anaconda3/envs/msprime_stan/lib/python3.11/site-packages/cmdstanpy/model.py:1527\u001b[0m, in \u001b[0;36mCmdStanModel.variational\u001b[0;34m(self, data, seed, inits, output_dir, sig_figs, save_latent_dynamics, save_profile, algorithm, iter, grad_samples, elbo_samples, eta, adapt_engaged, adapt_iter, tol_rel_obj, eval_elbo, draws, require_converged, show_console, refresh, time_fmt, timeout, output_samples)\u001b[0m\n\u001b[1;32m   1525\u001b[0m \u001b[38;5;28;01mif\u001b[39;00m \u001b[38;5;28mlen\u001b[39m(re\u001b[38;5;241m.\u001b[39mfindall(pat, contents)) \u001b[38;5;241m>\u001b[39m \u001b[38;5;241m0\u001b[39m:\n\u001b[1;32m   1526\u001b[0m     \u001b[38;5;28;01mif\u001b[39;00m require_converged:\n\u001b[0;32m-> 1527\u001b[0m         \u001b[38;5;28;01mraise\u001b[39;00m \u001b[38;5;167;01mRuntimeError\u001b[39;00m(\n\u001b[1;32m   1528\u001b[0m             \u001b[38;5;124m'\u001b[39m\u001b[38;5;124mThe algorithm may not have converged.\u001b[39m\u001b[38;5;130;01m\\n\u001b[39;00m\u001b[38;5;124m'\u001b[39m\n\u001b[1;32m   1529\u001b[0m             \u001b[38;5;124m'\u001b[39m\u001b[38;5;124mIf you would like to inspect the output, \u001b[39m\u001b[38;5;124m'\u001b[39m\n\u001b[1;32m   1530\u001b[0m             \u001b[38;5;124m'\u001b[39m\u001b[38;5;124mre-call with require_converged=False\u001b[39m\u001b[38;5;124m'\u001b[39m\n\u001b[1;32m   1531\u001b[0m         )\n\u001b[1;32m   1532\u001b[0m     \u001b[38;5;66;03m# else:\u001b[39;00m\n\u001b[1;32m   1533\u001b[0m     get_logger()\u001b[38;5;241m.\u001b[39mwarning(\n\u001b[1;32m   1534\u001b[0m         \u001b[38;5;124m'\u001b[39m\u001b[38;5;132;01m%s\u001b[39;00m\u001b[38;5;130;01m\\n\u001b[39;00m\u001b[38;5;132;01m%s\u001b[39;00m\u001b[38;5;124m'\u001b[39m,\n\u001b[1;32m   1535\u001b[0m         \u001b[38;5;124m'\u001b[39m\u001b[38;5;124mThe algorithm may not have converged.\u001b[39m\u001b[38;5;124m'\u001b[39m,\n\u001b[1;32m   1536\u001b[0m         \u001b[38;5;124m'\u001b[39m\u001b[38;5;124mProceeding because require_converged is set to False\u001b[39m\u001b[38;5;124m'\u001b[39m,\n\u001b[1;32m   1537\u001b[0m     )\n",
      "\u001b[0;31mRuntimeError\u001b[0m: The algorithm may not have converged.\nIf you would like to inspect the output, re-call with require_converged=False"
     ]
    }
   ],
   "source": [
    "fit_advi = model.variational(data='generalized_popn_simulated_data.json')\n",
    "print(fit_advi.variational_params_dict)"
   ]
  }
 ],
 "metadata": {
  "kernelspec": {
   "display_name": "msprime_env",
   "language": "python",
   "name": "python3"
  },
  "language_info": {
   "codemirror_mode": {
    "name": "ipython",
    "version": 3
   },
   "file_extension": ".py",
   "mimetype": "text/x-python",
   "name": "python",
   "nbconvert_exporter": "python",
   "pygments_lexer": "ipython3",
   "version": "3.12.6"
  }
 },
 "nbformat": 4,
 "nbformat_minor": 2
}
