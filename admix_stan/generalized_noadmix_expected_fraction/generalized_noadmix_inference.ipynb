{
 "cells": [
  {
   "cell_type": "code",
   "execution_count": 1,
   "metadata": {},
   "outputs": [],
   "source": [
    "from cmdstanpy import CmdStanModel\n",
    "import numpy as np\n",
    "import pandas as pd\n",
    "import seaborn as sns\n",
    "import matplotlib.pyplot as plt\n",
    "import random"
   ]
  },
  {
   "cell_type": "code",
   "execution_count": 13,
   "metadata": {},
   "outputs": [
    {
     "name": "stderr",
     "output_type": "stream",
     "text": [
      "00:19:57 - cmdstanpy - INFO - compiling stan file /Users/qichen/Desktop/genetics/code/admix_stan/generalized_noadmix_expected_fraction/generalized_noadmix_model.stan to exe file /Users/qichen/Desktop/genetics/code/admix_stan/generalized_noadmix_expected_fraction/generalized_noadmix_model\n"
     ]
    },
    {
     "ename": "ValueError",
     "evalue": "Failed to compile Stan model '/Users/qichen/Desktop/genetics/code/admix_stan/generalized_noadmix_expected_fraction/generalized_noadmix_model.stan'. Console:\n\n--- Translating Stan model to C++ code ---\nbin/stanc --filename-in-msg=generalized_noadmix_model.stan --o=/Users/qichen/Desktop/genetics/code/admix_stan/generalized_noadmix_expected_fraction/generalized_noadmix_model.hpp /Users/qichen/Desktop/genetics/code/admix_stan/generalized_noadmix_expected_fraction/generalized_noadmix_model.stan\nError in 'generalized_noadmix_model.stan', line 38, column 42: Declaration of\n    arrays by placing brackets after a type was removed in Stan 2.33.0.\n    Instead use the array keyword before the type. This can be changed\n    automatically using the auto-format flag to stanc\nmake: *** [make/program:50: /Users/qichen/Desktop/genetics/code/admix_stan/generalized_noadmix_expected_fraction/generalized_noadmix_model.hpp] Error 65\n\nCommand ['make', 'STANCFLAGS+=--filename-in-msg=generalized_noadmix_model.stan', '/Users/qichen/Desktop/genetics/code/admix_stan/generalized_noadmix_expected_fraction/generalized_noadmix_model']\n\terror during processing No such file or directory\n",
     "output_type": "error",
     "traceback": [
      "\u001b[0;31m---------------------------------------------------------------------------\u001b[0m",
      "\u001b[0;31mValueError\u001b[0m                                Traceback (most recent call last)",
      "Cell \u001b[0;32mIn[13], line 1\u001b[0m\n\u001b[0;32m----> 1\u001b[0m model \u001b[38;5;241m=\u001b[39m \u001b[43mCmdStanModel\u001b[49m\u001b[43m(\u001b[49m\u001b[43mstan_file\u001b[49m\u001b[38;5;241;43m=\u001b[39;49m\u001b[38;5;124;43m'\u001b[39;49m\u001b[38;5;124;43mgeneralized_noadmix_model.stan\u001b[39;49m\u001b[38;5;124;43m'\u001b[39;49m\u001b[43m)\u001b[49m\n",
      "File \u001b[0;32m~/anaconda3/envs/msprime_stan/lib/python3.11/site-packages/cmdstanpy/model.py:257\u001b[0m, in \u001b[0;36mCmdStanModel.__init__\u001b[0;34m(self, model_name, stan_file, exe_file, force_compile, stanc_options, cpp_options, user_header, compile)\u001b[0m\n\u001b[1;32m    254\u001b[0m         get_logger()\u001b[38;5;241m.\u001b[39mdebug(\u001b[38;5;124m\"\u001b[39m\u001b[38;5;124mTBB already found in load path\u001b[39m\u001b[38;5;124m\"\u001b[39m)\n\u001b[1;32m    256\u001b[0m \u001b[38;5;28;01mif\u001b[39;00m \u001b[38;5;28mcompile\u001b[39m \u001b[38;5;129;01mand\u001b[39;00m \u001b[38;5;28mself\u001b[39m\u001b[38;5;241m.\u001b[39m_exe_file \u001b[38;5;129;01mis\u001b[39;00m \u001b[38;5;28;01mNone\u001b[39;00m:\n\u001b[0;32m--> 257\u001b[0m     \u001b[38;5;28;43mself\u001b[39;49m\u001b[38;5;241;43m.\u001b[39;49m\u001b[43mcompile\u001b[49m\u001b[43m(\u001b[49m\u001b[43mforce\u001b[49m\u001b[38;5;241;43m=\u001b[39;49m\u001b[38;5;28;43mstr\u001b[39;49m\u001b[43m(\u001b[49m\u001b[38;5;28;43mcompile\u001b[39;49m\u001b[43m)\u001b[49m\u001b[38;5;241;43m.\u001b[39;49m\u001b[43mlower\u001b[49m\u001b[43m(\u001b[49m\u001b[43m)\u001b[49m\u001b[43m \u001b[49m\u001b[38;5;241;43m==\u001b[39;49m\u001b[43m \u001b[49m\u001b[38;5;124;43m'\u001b[39;49m\u001b[38;5;124;43mforce\u001b[39;49m\u001b[38;5;124;43m'\u001b[39;49m\u001b[43m,\u001b[49m\u001b[43m \u001b[49m\u001b[43m_internal\u001b[49m\u001b[38;5;241;43m=\u001b[39;49m\u001b[38;5;28;43;01mTrue\u001b[39;49;00m\u001b[43m)\u001b[49m\n",
      "File \u001b[0;32m~/anaconda3/envs/msprime_stan/lib/python3.11/site-packages/cmdstanpy/model.py:465\u001b[0m, in \u001b[0;36mCmdStanModel.compile\u001b[0;34m(self, force, stanc_options, cpp_options, user_header, override_options, _internal)\u001b[0m\n\u001b[1;32m    462\u001b[0m         \u001b[38;5;28;01melse\u001b[39;00m:\n\u001b[1;32m    463\u001b[0m             \u001b[38;5;28mself\u001b[39m\u001b[38;5;241m.\u001b[39m_compiler_options\u001b[38;5;241m.\u001b[39madd(compiler_options)\n\u001b[0;32m--> 465\u001b[0m \u001b[38;5;28mself\u001b[39m\u001b[38;5;241m.\u001b[39m_exe_file \u001b[38;5;241m=\u001b[39m \u001b[43mcompilation\u001b[49m\u001b[38;5;241;43m.\u001b[39;49m\u001b[43mcompile_stan_file\u001b[49m\u001b[43m(\u001b[49m\n\u001b[1;32m    466\u001b[0m \u001b[43m    \u001b[49m\u001b[38;5;28;43mstr\u001b[39;49m\u001b[43m(\u001b[49m\u001b[38;5;28;43mself\u001b[39;49m\u001b[38;5;241;43m.\u001b[39;49m\u001b[43mstan_file\u001b[49m\u001b[43m)\u001b[49m\u001b[43m,\u001b[49m\n\u001b[1;32m    467\u001b[0m \u001b[43m    \u001b[49m\u001b[43mforce\u001b[49m\u001b[38;5;241;43m=\u001b[39;49m\u001b[43mforce\u001b[49m\u001b[43m,\u001b[49m\n\u001b[1;32m    468\u001b[0m \u001b[43m    \u001b[49m\u001b[43mstanc_options\u001b[49m\u001b[38;5;241;43m=\u001b[39;49m\u001b[38;5;28;43mself\u001b[39;49m\u001b[38;5;241;43m.\u001b[39;49m\u001b[43m_compiler_options\u001b[49m\u001b[38;5;241;43m.\u001b[39;49m\u001b[43mstanc_options\u001b[49m\u001b[43m,\u001b[49m\n\u001b[1;32m    469\u001b[0m \u001b[43m    \u001b[49m\u001b[43mcpp_options\u001b[49m\u001b[38;5;241;43m=\u001b[39;49m\u001b[38;5;28;43mself\u001b[39;49m\u001b[38;5;241;43m.\u001b[39;49m\u001b[43m_compiler_options\u001b[49m\u001b[38;5;241;43m.\u001b[39;49m\u001b[43mcpp_options\u001b[49m\u001b[43m,\u001b[49m\n\u001b[1;32m    470\u001b[0m \u001b[43m    \u001b[49m\u001b[43muser_header\u001b[49m\u001b[38;5;241;43m=\u001b[39;49m\u001b[38;5;28;43mself\u001b[39;49m\u001b[38;5;241;43m.\u001b[39;49m\u001b[43m_compiler_options\u001b[49m\u001b[38;5;241;43m.\u001b[39;49m\u001b[43muser_header\u001b[49m\u001b[43m,\u001b[49m\n\u001b[1;32m    471\u001b[0m \u001b[43m\u001b[49m\u001b[43m)\u001b[49m\n",
      "File \u001b[0;32m~/anaconda3/envs/msprime_stan/lib/python3.11/site-packages/cmdstanpy/compilation.py:481\u001b[0m, in \u001b[0;36mcompile_stan_file\u001b[0;34m(src, force, stanc_options, cpp_options, user_header)\u001b[0m\n\u001b[1;32m    474\u001b[0m     \u001b[38;5;28;01mif\u001b[39;00m \u001b[38;5;124m'\u001b[39m\u001b[38;5;124mPCH\u001b[39m\u001b[38;5;124m'\u001b[39m \u001b[38;5;129;01min\u001b[39;00m console \u001b[38;5;129;01mor\u001b[39;00m \u001b[38;5;124m'\u001b[39m\u001b[38;5;124mprecompiled header\u001b[39m\u001b[38;5;124m'\u001b[39m \u001b[38;5;129;01min\u001b[39;00m console:\n\u001b[1;32m    475\u001b[0m         get_logger()\u001b[38;5;241m.\u001b[39mwarning(\n\u001b[1;32m    476\u001b[0m             \u001b[38;5;124m\"\u001b[39m\u001b[38;5;124mCmdStan\u001b[39m\u001b[38;5;124m'\u001b[39m\u001b[38;5;124ms precompiled header (PCH) files \u001b[39m\u001b[38;5;124m\"\u001b[39m\n\u001b[1;32m    477\u001b[0m             \u001b[38;5;124m\"\u001b[39m\u001b[38;5;124mmay need to be rebuilt.\u001b[39m\u001b[38;5;124m\"\u001b[39m\n\u001b[1;32m    478\u001b[0m             \u001b[38;5;124m\"\u001b[39m\u001b[38;5;124mPlease run cmdstanpy.rebuild_cmdstan().\u001b[39m\u001b[38;5;130;01m\\n\u001b[39;00m\u001b[38;5;124m\"\u001b[39m\n\u001b[1;32m    479\u001b[0m             \u001b[38;5;124m\"\u001b[39m\u001b[38;5;124mIf the issue persists please open a bug report\u001b[39m\u001b[38;5;124m\"\u001b[39m\n\u001b[1;32m    480\u001b[0m         )\n\u001b[0;32m--> 481\u001b[0m     \u001b[38;5;28;01mraise\u001b[39;00m \u001b[38;5;167;01mValueError\u001b[39;00m(\n\u001b[1;32m    482\u001b[0m         \u001b[38;5;124mf\u001b[39m\u001b[38;5;124m\"\u001b[39m\u001b[38;5;124mFailed to compile Stan model \u001b[39m\u001b[38;5;124m'\u001b[39m\u001b[38;5;132;01m{\u001b[39;00msrc\u001b[38;5;132;01m}\u001b[39;00m\u001b[38;5;124m'\u001b[39m\u001b[38;5;124m. \u001b[39m\u001b[38;5;124m\"\u001b[39m \u001b[38;5;124mf\u001b[39m\u001b[38;5;124m\"\u001b[39m\u001b[38;5;124mConsole:\u001b[39m\u001b[38;5;130;01m\\n\u001b[39;00m\u001b[38;5;132;01m{\u001b[39;00mconsole\u001b[38;5;132;01m}\u001b[39;00m\u001b[38;5;124m\"\u001b[39m\n\u001b[1;32m    483\u001b[0m     )\n\u001b[1;32m    484\u001b[0m \u001b[38;5;28;01mreturn\u001b[39;00m \u001b[38;5;28mstr\u001b[39m(exe_target)\n",
      "\u001b[0;31mValueError\u001b[0m: Failed to compile Stan model '/Users/qichen/Desktop/genetics/code/admix_stan/generalized_noadmix_expected_fraction/generalized_noadmix_model.stan'. Console:\n\n--- Translating Stan model to C++ code ---\nbin/stanc --filename-in-msg=generalized_noadmix_model.stan --o=/Users/qichen/Desktop/genetics/code/admix_stan/generalized_noadmix_expected_fraction/generalized_noadmix_model.hpp /Users/qichen/Desktop/genetics/code/admix_stan/generalized_noadmix_expected_fraction/generalized_noadmix_model.stan\nError in 'generalized_noadmix_model.stan', line 38, column 42: Declaration of\n    arrays by placing brackets after a type was removed in Stan 2.33.0.\n    Instead use the array keyword before the type. This can be changed\n    automatically using the auto-format flag to stanc\nmake: *** [make/program:50: /Users/qichen/Desktop/genetics/code/admix_stan/generalized_noadmix_expected_fraction/generalized_noadmix_model.hpp] Error 65\n\nCommand ['make', 'STANCFLAGS+=--filename-in-msg=generalized_noadmix_model.stan', '/Users/qichen/Desktop/genetics/code/admix_stan/generalized_noadmix_expected_fraction/generalized_noadmix_model']\n\terror during processing No such file or directory\n"
     ]
    }
   ],
   "source": [
    "model = CmdStanModel(stan_file='generalized_noadmix_model.stan')"
   ]
  },
  {
   "cell_type": "code",
   "execution_count": 12,
   "metadata": {},
   "outputs": [
    {
     "name": "stderr",
     "output_type": "stream",
     "text": [
      "00:19:47 - cmdstanpy - INFO - compiling stan file /Users/qichen/Desktop/genetics/code/admix_stan/generalized_noadmix_expected_fraction/simple.stan to exe file /Users/qichen/Desktop/genetics/code/admix_stan/generalized_noadmix_expected_fraction/simple\n",
      "00:19:54 - cmdstanpy - INFO - compiled model executable: /Users/qichen/Desktop/genetics/code/admix_stan/generalized_noadmix_expected_fraction/simple\n"
     ]
    }
   ],
   "source": [
    "model = CmdStanModel(stan_file='simple.stan')"
   ]
  }
 ],
 "metadata": {
  "kernelspec": {
   "display_name": "msprime_stan",
   "language": "python",
   "name": "python3"
  },
  "language_info": {
   "codemirror_mode": {
    "name": "ipython",
    "version": 3
   },
   "file_extension": ".py",
   "mimetype": "text/x-python",
   "name": "python",
   "nbconvert_exporter": "python",
   "pygments_lexer": "ipython3",
   "version": "3.11.9"
  }
 },
 "nbformat": 4,
 "nbformat_minor": 2
}
