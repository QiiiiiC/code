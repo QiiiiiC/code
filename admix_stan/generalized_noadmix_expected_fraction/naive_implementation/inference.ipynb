{
 "cells": [
  {
   "cell_type": "code",
   "execution_count": 1,
   "metadata": {},
   "outputs": [],
   "source": [
    "from cmdstanpy import CmdStanModel\n",
    "import numpy as np\n",
    "import pandas as pd\n",
    "import seaborn as sns\n",
    "import matplotlib.pyplot as plt\n",
    "from scipy.stats import gamma\n",
    "from simulator import popn3_simple_data_morgan"
   ]
  },
  {
   "cell_type": "code",
   "execution_count": 82,
   "metadata": {},
   "outputs": [],
   "source": [
    "#Let the true T diff be at least 100\n",
    "N = [2500,2500,2500,2500,5000]\n",
    "T = [50,500]\n",
    "L = [1,200]\n",
    "data = popn3_simple_data_morgan(N,T,L,2,1e7,5)\n",
    "data['N_obs'] = len(data['y'])\n",
    "data['N_given'] = [n*2 for n in N[-2:]]"
   ]
  },
  {
   "cell_type": "code",
   "execution_count": null,
   "metadata": {},
   "outputs": [],
   "source": []
  },
  {
   "cell_type": "code",
   "execution_count": 94,
   "metadata": {},
   "outputs": [
    {
     "name": "stderr",
     "output_type": "stream",
     "text": [
      "23:58:48 - cmdstanpy - INFO - compiling stan file /Users/qichen/Desktop/genetics/code/admix_stan/generalized_noadmix_expected_fraction/naive_implementation/naive_model1.stan to exe file /Users/qichen/Desktop/genetics/code/admix_stan/generalized_noadmix_expected_fraction/naive_implementation/naive_model1\n",
      "23:59:00 - cmdstanpy - INFO - compiled model executable: /Users/qichen/Desktop/genetics/code/admix_stan/generalized_noadmix_expected_fraction/naive_implementation/naive_model1\n"
     ]
    }
   ],
   "source": [
    "#naive_model1 is the true model and naive_model2 is what we would like to compare\n",
    "naive_model1 = CmdStanModel(stan_file='naive_model1.stan')\n",
    "naive_model2 = CmdStanModel(stan_file='naive_model2.stan')"
   ]
  },
  {
   "cell_type": "code",
   "execution_count": 95,
   "metadata": {},
   "outputs": [
    {
     "name": "stderr",
     "output_type": "stream",
     "text": [
      "23:59:02 - cmdstanpy - INFO - Chain [1] start processing\n",
      "23:59:03 - cmdstanpy - INFO - Chain [1] done processing\n"
     ]
    }
   ],
   "source": [
    "data['N'] = [n*2 for n in N[:3]]\n",
    "vi = naive_model1.optimize(data)"
   ]
  },
  {
   "cell_type": "code",
   "execution_count": 97,
   "metadata": {},
   "outputs": [
    {
     "data": {
      "text/plain": [
       "OrderedDict([('lp__', -266.262), ('T[1]', 3.7236e-06), ('T[2]', 6.37311e-06)])"
      ]
     },
     "execution_count": 97,
     "metadata": {},
     "output_type": "execute_result"
    }
   ],
   "source": [
    "vi.optimized_params_dict\n"
   ]
  },
  {
   "cell_type": "code",
   "execution_count": 98,
   "metadata": {},
   "outputs": [
    {
     "data": {
      "text/plain": [
       "CmdStanMLE: model=naive_model1['method=optimize']\n",
       " csv_file:\n",
       "\t/var/folders/gm/vzcskl_s1wzfqy1p36xcp32h0000gn/T/tmpp6fhckv6/naive_model11nt047_6/naive_model1-20241003235902.csv\n",
       " output_file:\n",
       "\t/var/folders/gm/vzcskl_s1wzfqy1p36xcp32h0000gn/T/tmpp6fhckv6/naive_model11nt047_6/naive_model1-20241003235902_0-stdout.txt"
      ]
     },
     "execution_count": 98,
     "metadata": {},
     "output_type": "execute_result"
    }
   ],
   "source": [
    "vi"
   ]
  },
  {
   "cell_type": "code",
   "execution_count": 91,
   "metadata": {},
   "outputs": [
    {
     "name": "stderr",
     "output_type": "stream",
     "text": [
      "23:28:54 - cmdstanpy - INFO - Chain [1] start processing\n",
      "23:29:02 - cmdstanpy - INFO - Chain [1] done processing\n"
     ]
    },
    {
     "data": {
      "text/plain": [
       "OrderedDict([('lp__', 0.0),\n",
       "             ('log_p__', 0.0),\n",
       "             ('log_g__', 0.0),\n",
       "             ('T[1]', 46.8106),\n",
       "             ('T[2]', 48.0557)])"
      ]
     },
     "execution_count": 91,
     "metadata": {},
     "output_type": "execute_result"
    }
   ],
   "source": [
    "vi_wrong = naive_model2.variational(data,grad_samples=20)\n",
    "vi_wrong.variational_params_dict"
   ]
  },
  {
   "cell_type": "code",
   "execution_count": 92,
   "metadata": {},
   "outputs": [
    {
     "data": {
      "text/plain": [
       "CmdStanVB: model=naive_model2['method=variational', 'grad_samples=20', 'adapt', 'engaged=1']\n",
       " csv_file:\n",
       "\t/var/folders/gm/vzcskl_s1wzfqy1p36xcp32h0000gn/T/tmpp6fhckv6/naive_model2wp_pej_5/naive_model2-20241003232854.csv\n",
       " output_file:\n",
       "\t/var/folders/gm/vzcskl_s1wzfqy1p36xcp32h0000gn/T/tmpp6fhckv6/naive_model2wp_pej_5/naive_model2-20241003232854_0-stdout.txt"
      ]
     },
     "execution_count": 92,
     "metadata": {},
     "output_type": "execute_result"
    }
   ],
   "source": [
    "vi_wrong"
   ]
  },
  {
   "cell_type": "code",
   "execution_count": 93,
   "metadata": {},
   "outputs": [
    {
     "data": {
      "text/plain": [
       "0.9801986733067553"
      ]
     },
     "execution_count": 93,
     "metadata": {},
     "output_type": "execute_result"
    }
   ],
   "source": [
    "np.exp(-100/5000)"
   ]
  }
 ],
 "metadata": {
  "kernelspec": {
   "display_name": "msprime_stan",
   "language": "python",
   "name": "python3"
  },
  "language_info": {
   "codemirror_mode": {
    "name": "ipython",
    "version": 3
   },
   "file_extension": ".py",
   "mimetype": "text/x-python",
   "name": "python",
   "nbconvert_exporter": "python",
   "pygments_lexer": "ipython3",
   "version": "3.11.9"
  }
 },
 "nbformat": 4,
 "nbformat_minor": 2
}
