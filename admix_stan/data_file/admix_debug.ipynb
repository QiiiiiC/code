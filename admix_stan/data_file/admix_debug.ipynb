{
 "cells": [
  {
   "cell_type": "code",
   "execution_count": 1,
   "metadata": {},
   "outputs": [],
   "source": [
    "import msprime"
   ]
  },
  {
   "cell_type": "code",
   "execution_count": null,
   "metadata": {},
   "outputs": [
    {
     "data": {
      "text/html": [
       "<div><details open=\"true\"><summary>Epoch[0]: [0, 50) generations</summary><div style=\"margin-left:20px\"><div><style scoped=\"\">\n",
       "            .tskit-table thead tr th:only-of-type {vertical-align: middle;}\n",
       "            .tskit-table thead tr th {text-align: center;vertical-align: top;}\n",
       "            .tskit-table tbody td {text-align: right;padding: 0.5em 0.5em;}\n",
       "            .tskit-table tbody th {padding: 0.5em 0.5em;}\n",
       "        </style><b>Populations (total=4 active=3)</b><table border=\"1\" class=\"tskit-table\"><thead><tr><th></th><th>start</th><th>end</th><th>growth_rate</th><th>A</th><th>C</th><th>ADMIX</th></tr></thead><tbody><tr><td>A</td><td> 5000.0</td><td> 5000.0</td><td> 0</td><td>0</td><td title='Backwards in time migration rate from population A to C = 0.0 per generation.\n",
       "Forwards in time, this is the expected number of migrants moving from C to A per\n",
       "generation, divided by the size of A.'>0</td><td title='Backwards in time migration rate from population A to ADMIX = 0.0 per\n",
       "generation. Forwards in time, this is the expected number of migrants moving\n",
       "from ADMIX to A per generation, divided by the size of A.'>0</td></tr><tr><td>C</td><td> 5000.0</td><td> 5000.0</td><td> 0</td><td title='Backwards in time migration rate from population C to A = 0.0 per generation.\n",
       "Forwards in time, this is the expected number of migrants moving from A to C per\n",
       "generation, divided by the size of C.'>0</td><td>0</td><td title='Backwards in time migration rate from population C to ADMIX = 0.0 per\n",
       "generation. Forwards in time, this is the expected number of migrants moving\n",
       "from ADMIX to C per generation, divided by the size of C.'>0</td></tr><tr><td>ADMIX</td><td> 5000.0</td><td> 5000.0</td><td> 0</td><td title='Backwards in time migration rate from population ADMIX to A = 0.0 per\n",
       "generation. Forwards in time, this is the expected number of migrants moving\n",
       "from A to ADMIX per generation, divided by the size of ADMIX.'>0</td><td title='Backwards in time migration rate from population ADMIX to C = 0.0 per\n",
       "generation. Forwards in time, this is the expected number of migrants moving\n",
       "from C to ADMIX per generation, divided by the size of ADMIX.'>0</td><td>0</td></tr></tbody></table></div><div><style scoped=\"\">\n",
       "            .tskit-table thead tr th:only-of-type {vertical-align: middle;}\n",
       "            .tskit-table thead tr th {text-align: center;vertical-align: top;}\n",
       "            .tskit-table tbody td {text-align: right;padding: 0.5em 0.5em;}\n",
       "            .tskit-table tbody th {padding: 0.5em 0.5em;}\n",
       "        </style><b>Events @ generation 50</b><table border=\"1\" class=\"tskit-table\"><thead><tr><th>time</th><th>type</th><th>parameters</th><th>effect</th></tr></thead><tbody><tr><td>50</td><td><a href='https://tskit.dev/msprime/docs/latest/api.html#msprime.Demography.add_admixture'>Admixture</a></td><td>derived=ADMIX ancestral=[C, A] proportions=[0.25, 0.75]</td><td>Moves all lineages from admixed population &#x27;ADMIX&#x27; to ancestral populations. Lineages move to &#x27;C&#x27; with proba 0.25; &#x27;A&#x27; with proba 0.75. Set &#x27;ADMIX&#x27; to inactive, and all migration rates to and from &#x27;ADMIX&#x27; to zero.</td></tr></tbody></table></div></div></details><details open=\"true\"><summary>Epoch[1]: [50, 100) generations</summary><div style=\"margin-left:20px\"><div><style scoped=\"\">\n",
       "            .tskit-table thead tr th:only-of-type {vertical-align: middle;}\n",
       "            .tskit-table thead tr th {text-align: center;vertical-align: top;}\n",
       "            .tskit-table tbody td {text-align: right;padding: 0.5em 0.5em;}\n",
       "            .tskit-table tbody th {padding: 0.5em 0.5em;}\n",
       "        </style><b>Populations (total=4 active=2)</b><table border=\"1\" class=\"tskit-table\"><thead><tr><th></th><th>start</th><th>end</th><th>growth_rate</th><th>A</th><th>C</th></tr></thead><tbody><tr><td>A</td><td> 5000.0</td><td> 5000.0</td><td> 0</td><td>0</td><td title='Backwards in time migration rate from population A to C = 0.0 per generation.\n",
       "Forwards in time, this is the expected number of migrants moving from C to A per\n",
       "generation, divided by the size of A.'>0</td></tr><tr><td>C</td><td> 5000.0</td><td> 5000.0</td><td> 0</td><td title='Backwards in time migration rate from population C to A = 0.0 per generation.\n",
       "Forwards in time, this is the expected number of migrants moving from A to C per\n",
       "generation, divided by the size of C.'>0</td><td>0</td></tr></tbody></table></div><div><style scoped=\"\">\n",
       "            .tskit-table thead tr th:only-of-type {vertical-align: middle;}\n",
       "            .tskit-table thead tr th {text-align: center;vertical-align: top;}\n",
       "            .tskit-table tbody td {text-align: right;padding: 0.5em 0.5em;}\n",
       "            .tskit-table tbody th {padding: 0.5em 0.5em;}\n",
       "        </style><b>Events @ generation 100</b><table border=\"1\" class=\"tskit-table\"><thead><tr><th>time</th><th>type</th><th>parameters</th><th>effect</th></tr></thead><tbody><tr><td>100</td><td><a href='https://tskit.dev/msprime/docs/latest/api.html#msprime.Demography.add_population_split'>Population Split</a></td><td>derived=[A, C], ancestral=ANC</td><td>Moves all lineages from derived populations &#x27;A&#x27; and &#x27;C&#x27; to the ancestral &#x27;ANC&#x27; population. Also set the derived populations to inactive, and all migration rates to and from the derived populations to zero.</td></tr></tbody></table></div></div></details><details open=\"true\"><summary>Epoch[2]: [100, inf) generations</summary><div style=\"margin-left:20px\"><div><style scoped=\"\">\n",
       "            .tskit-table thead tr th:only-of-type {vertical-align: middle;}\n",
       "            .tskit-table thead tr th {text-align: center;vertical-align: top;}\n",
       "            .tskit-table tbody td {text-align: right;padding: 0.5em 0.5em;}\n",
       "            .tskit-table tbody th {padding: 0.5em 0.5em;}\n",
       "        </style><b>Populations (total=4 active=1)</b><table border=\"1\" class=\"tskit-table\"><thead><tr><th></th><th>start</th><th>end</th><th>growth_rate</th></tr></thead><tbody><tr><td>ANC</td><td> 5000.0</td><td> 5000.0</td><td> 0</td></tr></tbody></table></div></div></details></div>"
      ],
      "text/plain": [
       "<msprime.demography.DemographyDebugger at 0x1881bc47c50>"
      ]
     },
     "execution_count": 4,
     "metadata": {},
     "output_type": "execute_result"
    }
   ],
   "source": [
    "# This will be the naive model, with three populations, one is the admixture one and then move to one single ancestral population.\n",
    "# The debug file shows the active populations.\n",
    "# This will be the fundamental model.\n",
    "demography = msprime.Demography()\n",
    "demography.add_population(name=\"A\", initial_size=5000)\n",
    "demography.add_population(name=\"C\", initial_size=5000)\n",
    "demography.add_population(name=\"ADMIX\", initial_size=5000)\n",
    "demography.add_population(name=\"ANC\", initial_size=5000)\n",
    "demography.add_admixture(time=50, derived='ADMIX', ancestral=[\"C\",\"A\"],proportions = [0.25,0.75])\n",
    "demography.add_population_split(time=100, derived=[\"A\", \"C\"], ancestral=\"ANC\")\n",
    "\n",
    "demography.debug()"
   ]
  }
 ],
 "metadata": {
  "kernelspec": {
   "display_name": "msprime_env",
   "language": "python",
   "name": "python3"
  },
  "language_info": {
   "codemirror_mode": {
    "name": "ipython",
    "version": 3
   },
   "file_extension": ".py",
   "mimetype": "text/x-python",
   "name": "python",
   "nbconvert_exporter": "python",
   "pygments_lexer": "ipython3",
   "version": "3.12.6"
  }
 },
 "nbformat": 4,
 "nbformat_minor": 2
}
