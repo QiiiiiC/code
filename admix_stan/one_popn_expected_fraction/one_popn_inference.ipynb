{
 "cells": [
  {
   "cell_type": "code",
   "execution_count": 1,
   "metadata": {},
   "outputs": [],
   "source": [
    "from cmdstanpy import CmdStanModel\n",
    "import numpy as np\n",
    "import pandas as pd\n",
    "import seaborn as sns\n",
    "import matplotlib.pyplot as plt\n",
    "import random"
   ]
  },
  {
   "cell_type": "code",
   "execution_count": 17,
   "metadata": {},
   "outputs": [
    {
     "name": "stderr",
     "output_type": "stream",
     "text": [
      "22:57:19 - cmdstanpy - INFO - compiling stan file /Users/qichen/Desktop/genetics/code/admix_stan/one_popn_expected_fraction/one_popn_model.stan to exe file /Users/qichen/Desktop/genetics/code/admix_stan/one_popn_expected_fraction/one_popn_model\n",
      "22:57:26 - cmdstanpy - INFO - compiled model executable: /Users/qichen/Desktop/genetics/code/admix_stan/one_popn_expected_fraction/one_popn_model\n"
     ]
    }
   ],
   "source": [
    "model = CmdStanModel(stan_file='one_popn_model.stan')"
   ]
  },
  {
   "cell_type": "code",
   "execution_count": 38,
   "metadata": {},
   "outputs": [
    {
     "name": "stderr",
     "output_type": "stream",
     "text": [
      "23:00:02 - cmdstanpy - INFO - CmdStan start processing\n"
     ]
    },
    {
     "data": {
      "application/vnd.jupyter.widget-view+json": {
       "model_id": "9e39f43e7c664843a80a95f45e7ac3db",
       "version_major": 2,
       "version_minor": 0
      },
      "text/plain": [
       "chain 1 |          | 00:00 Status"
      ]
     },
     "metadata": {},
     "output_type": "display_data"
    },
    {
     "data": {
      "application/vnd.jupyter.widget-view+json": {
       "model_id": "ed4a1dd366be43318bfd9d790968318b",
       "version_major": 2,
       "version_minor": 0
      },
      "text/plain": [
       "chain 2 |          | 00:00 Status"
      ]
     },
     "metadata": {},
     "output_type": "display_data"
    },
    {
     "data": {
      "application/vnd.jupyter.widget-view+json": {
       "model_id": "d9704ebb98ef4b2ea6bea38e23a833f9",
       "version_major": 2,
       "version_minor": 0
      },
      "text/plain": [
       "chain 3 |          | 00:00 Status"
      ]
     },
     "metadata": {},
     "output_type": "display_data"
    },
    {
     "data": {
      "application/vnd.jupyter.widget-view+json": {
       "model_id": "79145b0456084b6e98dd103caef667e1",
       "version_major": 2,
       "version_minor": 0
      },
      "text/plain": [
       "chain 4 |          | 00:00 Status"
      ]
     },
     "metadata": {},
     "output_type": "display_data"
    },
    {
     "name": "stdout",
     "output_type": "stream",
     "text": [
      "                                                                                                                                                                                                                                                                                                                                "
     ]
    },
    {
     "name": "stderr",
     "output_type": "stream",
     "text": [
      "23:00:02 - cmdstanpy - INFO - CmdStan done processing.\n"
     ]
    },
    {
     "name": "stdout",
     "output_type": "stream",
     "text": [
      "\n"
     ]
    },
    {
     "data": {
      "text/html": [
       "<div>\n",
       "<style scoped>\n",
       "    .dataframe tbody tr th:only-of-type {\n",
       "        vertical-align: middle;\n",
       "    }\n",
       "\n",
       "    .dataframe tbody tr th {\n",
       "        vertical-align: top;\n",
       "    }\n",
       "\n",
       "    .dataframe thead th {\n",
       "        text-align: right;\n",
       "    }\n",
       "</style>\n",
       "<table border=\"1\" class=\"dataframe\">\n",
       "  <thead>\n",
       "    <tr style=\"text-align: right;\">\n",
       "      <th></th>\n",
       "      <th>Mean</th>\n",
       "      <th>MCSE</th>\n",
       "      <th>StdDev</th>\n",
       "      <th>5%</th>\n",
       "      <th>50%</th>\n",
       "      <th>95%</th>\n",
       "      <th>N_Eff</th>\n",
       "      <th>N_Eff/s</th>\n",
       "      <th>R_hat</th>\n",
       "    </tr>\n",
       "  </thead>\n",
       "  <tbody>\n",
       "    <tr>\n",
       "      <th>lp__</th>\n",
       "      <td>48.5859</td>\n",
       "      <td>0.020409</td>\n",
       "      <td>0.749426</td>\n",
       "      <td>47.0161</td>\n",
       "      <td>48.8699</td>\n",
       "      <td>49.1148</td>\n",
       "      <td>1348.37</td>\n",
       "      <td>5226.26</td>\n",
       "      <td>1.00070</td>\n",
       "    </tr>\n",
       "    <tr>\n",
       "      <th>N</th>\n",
       "      <td>5202.8800</td>\n",
       "      <td>55.287300</td>\n",
       "      <td>2068.900000</td>\n",
       "      <td>2270.4700</td>\n",
       "      <td>4939.7400</td>\n",
       "      <td>9100.4500</td>\n",
       "      <td>1400.32</td>\n",
       "      <td>5427.60</td>\n",
       "      <td>1.00196</td>\n",
       "    </tr>\n",
       "  </tbody>\n",
       "</table>\n",
       "</div>"
      ],
      "text/plain": [
       "           Mean       MCSE       StdDev         5%        50%        95%  \\\n",
       "lp__    48.5859   0.020409     0.749426    47.0161    48.8699    49.1148   \n",
       "N     5202.8800  55.287300  2068.900000  2270.4700  4939.7400  9100.4500   \n",
       "\n",
       "        N_Eff  N_Eff/s    R_hat  \n",
       "lp__  1348.37  5226.26  1.00070  \n",
       "N     1400.32  5427.60  1.00196  "
      ]
     },
     "execution_count": 38,
     "metadata": {},
     "output_type": "execute_result"
    }
   ],
   "source": [
    "random.seed(40)\n",
    "fit = model.sample(data='one_popn_simulated_data.json')\n",
    "fit.summary()"
   ]
  },
  {
   "cell_type": "code",
   "execution_count": 32,
   "metadata": {},
   "outputs": [
    {
     "name": "stderr",
     "output_type": "stream",
     "text": [
      "22:59:49 - cmdstanpy - INFO - Chain [1] start processing\n",
      "22:59:49 - cmdstanpy - INFO - Chain [1] done processing\n"
     ]
    },
    {
     "name": "stdout",
     "output_type": "stream",
     "text": [
      "5317.11\n"
     ]
    }
   ],
   "source": [
    "random.seed(40)\n",
    "fit_advi = model.variational(data='one_popn_simulated_data.json')\n",
    "print(fit_advi.variational_params_dict['N'])"
   ]
  }
 ],
 "metadata": {
  "kernelspec": {
   "display_name": "msprime_stan",
   "language": "python",
   "name": "python3"
  },
  "language_info": {
   "codemirror_mode": {
    "name": "ipython",
    "version": 3
   },
   "file_extension": ".py",
   "mimetype": "text/x-python",
   "name": "python",
   "nbconvert_exporter": "python",
   "pygments_lexer": "ipython3",
   "version": "3.11.9"
  }
 },
 "nbformat": 4,
 "nbformat_minor": 2
}
