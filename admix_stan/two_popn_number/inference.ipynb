{
 "cells": [
  {
   "cell_type": "code",
   "execution_count": 1,
   "metadata": {},
   "outputs": [],
   "source": [
    "from cmdstanpy import CmdStanModel\n",
    "import numpy as np\n",
    "import pandas as pd\n",
    "import seaborn as sns\n",
    "import matplotlib.pyplot as plt\n",
    "import random\n",
    "import math\n",
    "import json\n",
    "from simulator import popn2_simple_data_morgan"
   ]
  },
  {
   "cell_type": "code",
   "execution_count": 2,
   "metadata": {},
   "outputs": [],
   "source": [
    "model = CmdStanModel(stan_file='two_popn_number.stan')"
   ]
  },
  {
   "cell_type": "code",
   "execution_count": 5,
   "metadata": {},
   "outputs": [],
   "source": [
    "seed=1111\n",
    "n=5\n",
    "N = [7000,7000,7000]\n",
    "T = 100\n",
    "m=2\n",
    "length=1e6\n",
    "L = [0.5,200]\n",
    "d = popn2_simple_data_morgan(N,T,L,m,length,n,seed)\n",
    "d['N_obs'] = len(d['y'])\n",
    "d['length']=100*m\n",
    "d['N'] = [x*2 for x in N]"
   ]
  },
  {
   "cell_type": "code",
   "execution_count": 6,
   "metadata": {},
   "outputs": [
    {
     "data": {
      "text/plain": [
       "2.4551724137931035"
      ]
     },
     "execution_count": 6,
     "metadata": {},
     "output_type": "execute_result"
    }
   ],
   "source": [
    "sum(d['y'])/len(d['y'])"
   ]
  },
  {
   "cell_type": "code",
   "execution_count": 8,
   "metadata": {},
   "outputs": [],
   "source": [
    "def int_p_L_divide_l(N,u,v,t1,t2):\n",
    "    cu = - (1/N + u/50)\n",
    "    cv = - (1/N + v/50)\n",
    "    a1 = np.exp(cu*t2)*(cu*t2-1)/cu**2 - np.exp(cu*t1)*(cu*t1-1)/cu**2\n",
    "    a2 = np.exp(cv*t2)*(cv*t2-1)/cv**2 - np.exp(cv*t1)*(cv*t1-1)/cv**2\n",
    "    return (1/(50*N))*(a1-a2)\n",
    "\n",
    "def likelihood(k,N,u,v,t1,t2):\n",
    "    lamb = int_p_L_divide_l(N,u,v,t1,t2)\n",
    "    return np.exp(-lamb)*lamb**k/math.factorial(k)"
   ]
  },
  {
   "cell_type": "code",
   "execution_count": 12,
   "metadata": {},
   "outputs": [
    {
     "data": {
      "text/plain": [
       "2.0650544178645065"
      ]
     },
     "execution_count": 12,
     "metadata": {},
     "output_type": "execute_result"
    }
   ],
   "source": [
    "int_p_L_divide_l(14000,0.5,2000,100,10000000)*200"
   ]
  },
  {
   "cell_type": "code",
   "execution_count": 13,
   "metadata": {},
   "outputs": [
    {
     "data": {
      "text/plain": [
       "-1755.372578816046"
      ]
     },
     "execution_count": 13,
     "metadata": {},
     "output_type": "execute_result"
    }
   ],
   "source": [
    "l = 0\n",
    "for i in d['y']:\n",
    "    l+=math.log(likelihood(i,14000,0.5,200,0,1000000000))\n",
    "l"
   ]
  },
  {
   "cell_type": "code",
   "execution_count": 14,
   "metadata": {},
   "outputs": [
    {
     "name": "stderr",
     "output_type": "stream",
     "text": [
      "11:36:10 - cmdstanpy - INFO - Chain [1] start processing\n",
      "11:36:10 - cmdstanpy - INFO - Chain [1] done processing\n"
     ]
    },
    {
     "data": {
      "text/plain": [
       "54.7306"
      ]
     },
     "execution_count": 14,
     "metadata": {},
     "output_type": "execute_result"
    }
   ],
   "source": [
    "v = model.variational(data=d,elbo_samples=1000,grad_samples=20)\n",
    "v.variational_params_dict['T']"
   ]
  },
  {
   "cell_type": "code",
   "execution_count": 15,
   "metadata": {},
   "outputs": [
    {
     "data": {
      "text/plain": [
       "CmdStanVB: model=two_popn_number['method=variational', 'grad_samples=20', 'elbo_samples=1000', 'adapt', 'engaged=1']\n",
       " csv_file:\n",
       "\t/var/folders/gm/vzcskl_s1wzfqy1p36xcp32h0000gn/T/tmp33db6azy/two_popn_numbertbrlsruv/two_popn_number-20241101113610.csv\n",
       " output_file:\n",
       "\t/var/folders/gm/vzcskl_s1wzfqy1p36xcp32h0000gn/T/tmp33db6azy/two_popn_numbertbrlsruv/two_popn_number-20241101113610_0-stdout.txt"
      ]
     },
     "execution_count": 15,
     "metadata": {},
     "output_type": "execute_result"
    }
   ],
   "source": [
    "v"
   ]
  },
  {
   "cell_type": "code",
   "execution_count": 16,
   "metadata": {},
   "outputs": [
    {
     "name": "stderr",
     "output_type": "stream",
     "text": [
      "11:36:18 - cmdstanpy - INFO - Chain [1] start processing\n",
      "11:36:18 - cmdstanpy - INFO - Chain [1] done processing\n"
     ]
    },
    {
     "data": {
      "text/plain": [
       "CmdStanMLE: model=two_popn_number['method=optimize']\n",
       " csv_file:\n",
       "\t/var/folders/gm/vzcskl_s1wzfqy1p36xcp32h0000gn/T/tmp33db6azy/two_popn_numberijx7pjye/two_popn_number-20241101113618.csv\n",
       " output_file:\n",
       "\t/var/folders/gm/vzcskl_s1wzfqy1p36xcp32h0000gn/T/tmp33db6azy/two_popn_numberijx7pjye/two_popn_number-20241101113618_0-stdout.txt"
      ]
     },
     "execution_count": 16,
     "metadata": {},
     "output_type": "execute_result"
    }
   ],
   "source": [
    "model.optimize(data=d)"
   ]
  },
  {
   "cell_type": "code",
   "execution_count": 17,
   "metadata": {},
   "outputs": [
    {
     "name": "stderr",
     "output_type": "stream",
     "text": [
      "11:36:37 - cmdstanpy - INFO - CmdStan start processing\n"
     ]
    },
    {
     "data": {
      "application/vnd.jupyter.widget-view+json": {
       "model_id": "aeba6dedf6814740b120f7fcc1c204fe",
       "version_major": 2,
       "version_minor": 0
      },
      "text/plain": [
       "chain 1 |          | 00:00 Status"
      ]
     },
     "metadata": {},
     "output_type": "display_data"
    },
    {
     "data": {
      "application/vnd.jupyter.widget-view+json": {
       "model_id": "fc501dbf6c674c0d9d21c48e5f460ec7",
       "version_major": 2,
       "version_minor": 0
      },
      "text/plain": [
       "chain 2 |          | 00:00 Status"
      ]
     },
     "metadata": {},
     "output_type": "display_data"
    },
    {
     "data": {
      "application/vnd.jupyter.widget-view+json": {
       "model_id": "08163d4f890b41a2bcf39c2adccdaccc",
       "version_major": 2,
       "version_minor": 0
      },
      "text/plain": [
       "chain 3 |          | 00:00 Status"
      ]
     },
     "metadata": {},
     "output_type": "display_data"
    },
    {
     "data": {
      "application/vnd.jupyter.widget-view+json": {
       "model_id": "30221d0049ff4d068984b6d7011b8a2c",
       "version_major": 2,
       "version_minor": 0
      },
      "text/plain": [
       "chain 4 |          | 00:00 Status"
      ]
     },
     "metadata": {},
     "output_type": "display_data"
    },
    {
     "name": "stdout",
     "output_type": "stream",
     "text": [
      "                                                                                                                                                                                                                                                                                                                                "
     ]
    },
    {
     "name": "stderr",
     "output_type": "stream",
     "text": [
      "11:36:37 - cmdstanpy - INFO - CmdStan done processing.\n",
      "11:36:37 - cmdstanpy - WARNING - Non-fatal error during sampling:\n",
      "Exception: poisson_lpmf: Rate parameter is nan, but must be nonnegative! (in 'two_popn_number.stan', line 44, column 8 to column 74)\n",
      "\tException: poisson_lpmf: Rate parameter is nan, but must be nonnegative! (in 'two_popn_number.stan', line 44, column 8 to column 74)\n",
      "\tException: gamma_lpdf: Random variable is inf, but must be positive finite! (in 'two_popn_number.stan', line 40, column 4 to column 20)\n",
      "\tException: poisson_lpmf: Rate parameter is nan, but must be nonnegative! (in 'two_popn_number.stan', line 44, column 8 to column 74)\n",
      "\tException: poisson_lpmf: Rate parameter is nan, but must be nonnegative! (in 'two_popn_number.stan', line 44, column 8 to column 74)\n",
      "\tException: poisson_lpmf: Rate parameter is nan, but must be nonnegative! (in 'two_popn_number.stan', line 44, column 8 to column 74)\n",
      "Exception: poisson_lpmf: Rate parameter is nan, but must be nonnegative! (in 'two_popn_number.stan', line 44, column 8 to column 74)\n",
      "\tException: poisson_lpmf: Rate parameter is nan, but must be nonnegative! (in 'two_popn_number.stan', line 44, column 8 to column 74)\n",
      "\tException: gamma_lpdf: Random variable is inf, but must be positive finite! (in 'two_popn_number.stan', line 40, column 4 to column 20)\n",
      "\tException: poisson_lpmf: Rate parameter is nan, but must be nonnegative! (in 'two_popn_number.stan', line 44, column 8 to column 74)\n",
      "Exception: poisson_lpmf: Rate parameter is nan, but must be nonnegative! (in 'two_popn_number.stan', line 44, column 8 to column 74)\n",
      "\tException: poisson_lpmf: Rate parameter is nan, but must be nonnegative! (in 'two_popn_number.stan', line 44, column 8 to column 74)\n",
      "\tException: gamma_lpdf: Random variable is inf, but must be positive finite! (in 'two_popn_number.stan', line 40, column 4 to column 20)\n",
      "\tException: poisson_lpmf: Rate parameter is nan, but must be nonnegative! (in 'two_popn_number.stan', line 44, column 8 to column 74)\n",
      "\tException: poisson_lpmf: Rate parameter is nan, but must be nonnegative! (in 'two_popn_number.stan', line 44, column 8 to column 74)\n",
      "Exception: poisson_lpmf: Rate parameter is nan, but must be nonnegative! (in 'two_popn_number.stan', line 44, column 8 to column 74)\n",
      "\tException: poisson_lpmf: Rate parameter is nan, but must be nonnegative! (in 'two_popn_number.stan', line 44, column 8 to column 74)\n",
      "\tException: gamma_lpdf: Random variable is inf, but must be positive finite! (in 'two_popn_number.stan', line 40, column 4 to column 20)\n",
      "Consider re-running with show_console=True if the above output is unclear!\n"
     ]
    },
    {
     "name": "stdout",
     "output_type": "stream",
     "text": [
      "\n"
     ]
    },
    {
     "data": {
      "text/html": [
       "<div>\n",
       "<style scoped>\n",
       "    .dataframe tbody tr th:only-of-type {\n",
       "        vertical-align: middle;\n",
       "    }\n",
       "\n",
       "    .dataframe tbody tr th {\n",
       "        vertical-align: top;\n",
       "    }\n",
       "\n",
       "    .dataframe thead th {\n",
       "        text-align: right;\n",
       "    }\n",
       "</style>\n",
       "<table border=\"1\" class=\"dataframe\">\n",
       "  <thead>\n",
       "    <tr style=\"text-align: right;\">\n",
       "      <th></th>\n",
       "      <th>Mean</th>\n",
       "      <th>MCSE</th>\n",
       "      <th>StdDev</th>\n",
       "      <th>5%</th>\n",
       "      <th>50%</th>\n",
       "      <th>95%</th>\n",
       "      <th>N_Eff</th>\n",
       "      <th>N_Eff/s</th>\n",
       "      <th>R_hat</th>\n",
       "    </tr>\n",
       "  </thead>\n",
       "  <tbody>\n",
       "    <tr>\n",
       "      <th>lp__</th>\n",
       "      <td>98.6892</td>\n",
       "      <td>0.015716</td>\n",
       "      <td>0.716014</td>\n",
       "      <td>97.2384</td>\n",
       "      <td>98.9590</td>\n",
       "      <td>99.1744</td>\n",
       "      <td>2075.57</td>\n",
       "      <td>7773.68</td>\n",
       "      <td>1.00050</td>\n",
       "    </tr>\n",
       "    <tr>\n",
       "      <th>T</th>\n",
       "      <td>57.7755</td>\n",
       "      <td>0.195990</td>\n",
       "      <td>7.954370</td>\n",
       "      <td>44.9721</td>\n",
       "      <td>57.6116</td>\n",
       "      <td>71.1943</td>\n",
       "      <td>1647.19</td>\n",
       "      <td>6169.26</td>\n",
       "      <td>1.00074</td>\n",
       "    </tr>\n",
       "  </tbody>\n",
       "</table>\n",
       "</div>"
      ],
      "text/plain": [
       "         Mean      MCSE    StdDev       5%      50%      95%    N_Eff  \\\n",
       "lp__  98.6892  0.015716  0.716014  97.2384  98.9590  99.1744  2075.57   \n",
       "T     57.7755  0.195990  7.954370  44.9721  57.6116  71.1943  1647.19   \n",
       "\n",
       "      N_Eff/s    R_hat  \n",
       "lp__  7773.68  1.00050  \n",
       "T     6169.26  1.00074  "
      ]
     },
     "execution_count": 17,
     "metadata": {},
     "output_type": "execute_result"
    }
   ],
   "source": [
    "mcmc = model.sample(data=d)\n",
    "mcmc.summary()"
   ]
  }
 ],
 "metadata": {
  "kernelspec": {
   "display_name": "msprime_stan",
   "language": "python",
   "name": "python3"
  },
  "language_info": {
   "codemirror_mode": {
    "name": "ipython",
    "version": 3
   },
   "file_extension": ".py",
   "mimetype": "text/x-python",
   "name": "python",
   "nbconvert_exporter": "python",
   "pygments_lexer": "ipython3",
   "version": "3.11.9"
  }
 },
 "nbformat": 4,
 "nbformat_minor": 2
}
