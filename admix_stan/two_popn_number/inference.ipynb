{
 "cells": [
  {
   "cell_type": "code",
   "execution_count": 1,
   "metadata": {},
   "outputs": [],
   "source": [
    "from cmdstanpy import CmdStanModel\n",
    "import numpy as np\n",
    "import pandas as pd\n",
    "import seaborn as sns\n",
    "import matplotlib.pyplot as plt\n",
    "import random\n",
    "import math\n",
    "import json\n",
    "from simulator import popn2_simple_data_morgan"
   ]
  },
  {
   "cell_type": "code",
   "execution_count": 2,
   "metadata": {},
   "outputs": [],
   "source": [
    "model = CmdStanModel(stan_file='two_popn_number.stan')"
   ]
  },
  {
   "cell_type": "code",
   "execution_count": 12,
   "metadata": {},
   "outputs": [],
   "source": [
    "n=15\n",
    "N = [7000,7000,7000]\n",
    "T = 100\n",
    "m=2\n",
    "length=1e6\n",
    "L = [0.5,10000]\n",
    "d = popn2_simple_data_morgan(N,T,L,m,length,n,42)\n"
   ]
  },
  {
   "cell_type": "code",
   "execution_count": 13,
   "metadata": {},
   "outputs": [
    {
     "data": {
      "text/plain": [
       "2.0365591397849463"
      ]
     },
     "execution_count": 13,
     "metadata": {},
     "output_type": "execute_result"
    }
   ],
   "source": [
    "sum(d['y'])/len(d['y'])"
   ]
  },
  {
   "cell_type": "code",
   "execution_count": 6,
   "metadata": {},
   "outputs": [],
   "source": [
    "def int_p_L_divide_l(N,u,v,t1,t2):\n",
    "    cu = - (1/N + u/50)\n",
    "    cv = - (1/N + v/50)\n",
    "    a1 = np.exp(cu*t2)*(cu*t2-1)/cu**2 - np.exp(cu*t1)*(cu*t1-1)/cu**2\n",
    "    a2 = np.exp(cv*t2)*(cv*t2-1)/cv**2 - np.exp(cv*t1)*(cv*t1-1)/cv**2\n",
    "    return (1/(50*N))*(a1-a2)\n",
    "\n",
    "def likelihood(k,N,u,v,t1,t2):\n",
    "    lamb = int_p_L_divide_l(N,u,v,t1,t2)\n",
    "    return np.exp(-lamb)*lamb**k/math.factorial(k)"
   ]
  },
  {
   "cell_type": "code",
   "execution_count": 23,
   "metadata": {},
   "outputs": [
    {
     "data": {
      "text/plain": [
       "2.0650544178645065"
      ]
     },
     "execution_count": 23,
     "metadata": {},
     "output_type": "execute_result"
    }
   ],
   "source": [
    "int_p_L_divide_l(14000,0.5,20000,100,10000000)*200"
   ]
  },
  {
   "cell_type": "code",
   "execution_count": 13,
   "metadata": {},
   "outputs": [
    {
     "data": {
      "text/plain": [
       "-1755.372578816046"
      ]
     },
     "execution_count": 13,
     "metadata": {},
     "output_type": "execute_result"
    }
   ],
   "source": [
    "l = 0\n",
    "for i in d['y']:\n",
    "    l+=math.log(likelihood(i,14000,0.5,200,0,1000000000))\n",
    "l"
   ]
  },
  {
   "cell_type": "code",
   "execution_count": 18,
   "metadata": {},
   "outputs": [],
   "source": [
    "d['N_obs'] = len(d['y'])\n",
    "d['N'] = [14000]*3\n",
    "d['length'] = 200"
   ]
  },
  {
   "cell_type": "code",
   "execution_count": 19,
   "metadata": {},
   "outputs": [
    {
     "name": "stderr",
     "output_type": "stream",
     "text": [
      "22:28:23 - cmdstanpy - INFO - Chain [1] start processing\n",
      "22:28:25 - cmdstanpy - INFO - Chain [1] done processing\n"
     ]
    },
    {
     "data": {
      "text/plain": [
       "86.0717"
      ]
     },
     "execution_count": 19,
     "metadata": {},
     "output_type": "execute_result"
    }
   ],
   "source": [
    "v = model.variational(data=d,elbo_samples=1000,grad_samples=20)\n",
    "v.variational_params_dict['T']"
   ]
  },
  {
   "cell_type": "code",
   "execution_count": 20,
   "metadata": {},
   "outputs": [
    {
     "data": {
      "text/plain": [
       "CmdStanVB: model=two_popn_number['method=variational', 'grad_samples=20', 'elbo_samples=1000', 'adapt', 'engaged=1']\n",
       " csv_file:\n",
       "\t/var/folders/gm/vzcskl_s1wzfqy1p36xcp32h0000gn/T/tmphuo7a97c/two_popn_numbervvnivkjf/two_popn_number-20241125222823.csv\n",
       " output_file:\n",
       "\t/var/folders/gm/vzcskl_s1wzfqy1p36xcp32h0000gn/T/tmphuo7a97c/two_popn_numbervvnivkjf/two_popn_number-20241125222823_0-stdout.txt"
      ]
     },
     "execution_count": 20,
     "metadata": {},
     "output_type": "execute_result"
    }
   ],
   "source": [
    "v"
   ]
  },
  {
   "cell_type": "code",
   "execution_count": 21,
   "metadata": {},
   "outputs": [
    {
     "name": "stderr",
     "output_type": "stream",
     "text": [
      "22:28:38 - cmdstanpy - INFO - Chain [1] start processing\n",
      "22:28:38 - cmdstanpy - INFO - Chain [1] done processing\n"
     ]
    },
    {
     "data": {
      "text/plain": [
       "CmdStanMLE: model=two_popn_number['method=optimize']\n",
       " csv_file:\n",
       "\t/var/folders/gm/vzcskl_s1wzfqy1p36xcp32h0000gn/T/tmphuo7a97c/two_popn_numberkknx6p5k/two_popn_number-20241125222838.csv\n",
       " output_file:\n",
       "\t/var/folders/gm/vzcskl_s1wzfqy1p36xcp32h0000gn/T/tmphuo7a97c/two_popn_numberkknx6p5k/two_popn_number-20241125222838_0-stdout.txt"
      ]
     },
     "execution_count": 21,
     "metadata": {},
     "output_type": "execute_result"
    }
   ],
   "source": [
    "model.optimize(data=d)"
   ]
  },
  {
   "cell_type": "code",
   "execution_count": 22,
   "metadata": {},
   "outputs": [
    {
     "name": "stderr",
     "output_type": "stream",
     "text": [
      "22:28:46 - cmdstanpy - INFO - CmdStan start processing\n"
     ]
    },
    {
     "data": {
      "application/vnd.jupyter.widget-view+json": {
       "model_id": "4315bd35fef44718a4d62f078d10aded",
       "version_major": 2,
       "version_minor": 0
      },
      "text/plain": [
       "chain 1 |          | 00:00 Status"
      ]
     },
     "metadata": {},
     "output_type": "display_data"
    },
    {
     "data": {
      "application/vnd.jupyter.widget-view+json": {
       "model_id": "2ff2023bd4974be59ea3400360a0d5cf",
       "version_major": 2,
       "version_minor": 0
      },
      "text/plain": [
       "chain 2 |          | 00:00 Status"
      ]
     },
     "metadata": {},
     "output_type": "display_data"
    },
    {
     "data": {
      "application/vnd.jupyter.widget-view+json": {
       "model_id": "f69db408085f4b67a303991090f23df3",
       "version_major": 2,
       "version_minor": 0
      },
      "text/plain": [
       "chain 3 |          | 00:00 Status"
      ]
     },
     "metadata": {},
     "output_type": "display_data"
    },
    {
     "data": {
      "application/vnd.jupyter.widget-view+json": {
       "model_id": "39640b983c0f491aa7bddbffddfadf63",
       "version_major": 2,
       "version_minor": 0
      },
      "text/plain": [
       "chain 4 |          | 00:00 Status"
      ]
     },
     "metadata": {},
     "output_type": "display_data"
    },
    {
     "name": "stdout",
     "output_type": "stream",
     "text": [
      "                                                                                                                                                                                                                                                                                                                                "
     ]
    },
    {
     "name": "stderr",
     "output_type": "stream",
     "text": [
      "22:28:47 - cmdstanpy - INFO - CmdStan done processing.\n",
      "22:28:47 - cmdstanpy - WARNING - Non-fatal error during sampling:\n",
      "Exception: poisson_lpmf: Rate parameter is nan, but must be nonnegative! (in 'two_popn_number.stan', line 44, column 8 to column 74)\n",
      "\tException: poisson_lpmf: Rate parameter is nan, but must be nonnegative! (in 'two_popn_number.stan', line 44, column 8 to column 74)\n",
      "\tException: gamma_lpdf: Random variable is inf, but must be positive finite! (in 'two_popn_number.stan', line 40, column 4 to column 20)\n",
      "\tException: poisson_lpmf: Rate parameter is nan, but must be nonnegative! (in 'two_popn_number.stan', line 44, column 8 to column 74)\n",
      "Exception: poisson_lpmf: Rate parameter is nan, but must be nonnegative! (in 'two_popn_number.stan', line 44, column 8 to column 74)\n",
      "\tException: poisson_lpmf: Rate parameter is nan, but must be nonnegative! (in 'two_popn_number.stan', line 44, column 8 to column 74)\n",
      "\tException: gamma_lpdf: Random variable is inf, but must be positive finite! (in 'two_popn_number.stan', line 40, column 4 to column 20)\n",
      "\tException: poisson_lpmf: Rate parameter is nan, but must be nonnegative! (in 'two_popn_number.stan', line 44, column 8 to column 74)\n",
      "\tException: poisson_lpmf: Rate parameter is nan, but must be nonnegative! (in 'two_popn_number.stan', line 44, column 8 to column 74)\n",
      "Exception: poisson_lpmf: Rate parameter is nan, but must be nonnegative! (in 'two_popn_number.stan', line 44, column 8 to column 74)\n",
      "\tException: poisson_lpmf: Rate parameter is nan, but must be nonnegative! (in 'two_popn_number.stan', line 44, column 8 to column 74)\n",
      "\tException: poisson_lpmf: Rate parameter is nan, but must be nonnegative! (in 'two_popn_number.stan', line 44, column 8 to column 74)\n",
      "\tException: poisson_lpmf: Rate parameter is nan, but must be nonnegative! (in 'two_popn_number.stan', line 44, column 8 to column 74)\n",
      "\tException: poisson_lpmf: Rate parameter is nan, but must be nonnegative! (in 'two_popn_number.stan', line 44, column 8 to column 74)\n",
      "\tException: poisson_lpmf: Rate parameter is nan, but must be nonnegative! (in 'two_popn_number.stan', line 44, column 8 to column 74)\n",
      "Exception: poisson_lpmf: Rate parameter is nan, but must be nonnegative! (in 'two_popn_number.stan', line 44, column 8 to column 74)\n",
      "\tException: poisson_lpmf: Rate parameter is nan, but must be nonnegative! (in 'two_popn_number.stan', line 44, column 8 to column 74)\n",
      "\tException: gamma_lpdf: Random variable is inf, but must be positive finite! (in 'two_popn_number.stan', line 40, column 4 to column 20)\n",
      "\tException: poisson_lpmf: Rate parameter is nan, but must be nonnegative! (in 'two_popn_number.stan', line 44, column 8 to column 74)\n",
      "\tException: poisson_lpmf: Rate parameter is nan, but must be nonnegative! (in 'two_popn_number.stan', line 44, column 8 to column 74)\n",
      "Consider re-running with show_console=True if the above output is unclear!\n"
     ]
    },
    {
     "name": "stdout",
     "output_type": "stream",
     "text": [
      "\n"
     ]
    },
    {
     "data": {
      "text/html": [
       "<div>\n",
       "<style scoped>\n",
       "    .dataframe tbody tr th:only-of-type {\n",
       "        vertical-align: middle;\n",
       "    }\n",
       "\n",
       "    .dataframe tbody tr th {\n",
       "        vertical-align: top;\n",
       "    }\n",
       "\n",
       "    .dataframe thead th {\n",
       "        text-align: right;\n",
       "    }\n",
       "</style>\n",
       "<table border=\"1\" class=\"dataframe\">\n",
       "  <thead>\n",
       "    <tr style=\"text-align: right;\">\n",
       "      <th></th>\n",
       "      <th>Mean</th>\n",
       "      <th>MCSE</th>\n",
       "      <th>StdDev</th>\n",
       "      <th>5%</th>\n",
       "      <th>50%</th>\n",
       "      <th>95%</th>\n",
       "      <th>N_Eff</th>\n",
       "      <th>N_Eff/s</th>\n",
       "      <th>R_hat</th>\n",
       "    </tr>\n",
       "  </thead>\n",
       "  <tbody>\n",
       "    <tr>\n",
       "      <th>lp__</th>\n",
       "      <td>-140.9820</td>\n",
       "      <td>0.019433</td>\n",
       "      <td>0.663079</td>\n",
       "      <td>-142.2990</td>\n",
       "      <td>-140.7250</td>\n",
       "      <td>-140.5080</td>\n",
       "      <td>1164.26</td>\n",
       "      <td>588.603</td>\n",
       "      <td>1.00093</td>\n",
       "    </tr>\n",
       "    <tr>\n",
       "      <th>T</th>\n",
       "      <td>84.7749</td>\n",
       "      <td>0.169359</td>\n",
       "      <td>6.039000</td>\n",
       "      <td>75.1339</td>\n",
       "      <td>84.9731</td>\n",
       "      <td>94.7568</td>\n",
       "      <td>1271.49</td>\n",
       "      <td>642.816</td>\n",
       "      <td>1.00046</td>\n",
       "    </tr>\n",
       "  </tbody>\n",
       "</table>\n",
       "</div>"
      ],
      "text/plain": [
       "          Mean      MCSE    StdDev        5%       50%       95%    N_Eff  \\\n",
       "lp__ -140.9820  0.019433  0.663079 -142.2990 -140.7250 -140.5080  1164.26   \n",
       "T      84.7749  0.169359  6.039000   75.1339   84.9731   94.7568  1271.49   \n",
       "\n",
       "      N_Eff/s    R_hat  \n",
       "lp__  588.603  1.00093  \n",
       "T     642.816  1.00046  "
      ]
     },
     "execution_count": 22,
     "metadata": {},
     "output_type": "execute_result"
    }
   ],
   "source": [
    "mcmc = model.sample(data=d)\n",
    "mcmc.summary()"
   ]
  }
 ],
 "metadata": {
  "kernelspec": {
   "display_name": "msprime_stan",
   "language": "python",
   "name": "python3"
  },
  "language_info": {
   "codemirror_mode": {
    "name": "ipython",
    "version": 3
   },
   "file_extension": ".py",
   "mimetype": "text/x-python",
   "name": "python",
   "nbconvert_exporter": "python",
   "pygments_lexer": "ipython3",
   "version": "3.11.9"
  }
 },
 "nbformat": 4,
 "nbformat_minor": 2
}
