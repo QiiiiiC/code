{
 "cells": [
  {
   "cell_type": "code",
   "execution_count": 1,
   "id": "cccfd6dd-08be-4a68-b483-c5dbb263c7e3",
   "metadata": {
    "tags": []
   },
   "outputs": [],
   "source": [
    "import cblearn"
   ]
  },
  {
   "cell_type": "code",
   "execution_count": 2,
   "id": "8b179e16-319a-4c7f-bbdc-d562d5d90a12",
   "metadata": {
    "tags": []
   },
   "outputs": [
    {
     "name": "stdout",
     "output_type": "stream",
     "text": [
      "Triplets | Error (SSE)\n",
      "----------------------\n",
      "      25 |       0.905\n",
      "     100 |       0.870\n",
      "     400 |       0.009\n",
      "    1600 |       0.001\n"
     ]
    }
   ],
   "source": [
    "import numpy as np\n",
    "from cblearn.datasets import make_random_triplets\n",
    "from cblearn.embedding import SOE\n",
    "from cblearn.metrics import procrustes_distance\n",
    "\n",
    "points = np.random.rand(20, 2)\n",
    "estimator = SOE(n_components=2)\n",
    "\n",
    "print(f\"Triplets | Error (SSE)\\n{22 * '-'}\")\n",
    "for n in (25, 100, 400, 1600):\n",
    "    triplets = make_random_triplets(points, size=n, result_format=\"list-order\")\n",
    "    embedding = estimator.fit_transform(triplets)\n",
    "    error = procrustes_distance(points, embedding)\n",
    "    print(f\"    {len(triplets):4d} |       {error:.3f}\")"
   ]
  },
  {
   "cell_type": "code",
   "execution_count": null,
   "id": "1aad8b82-9e14-479a-b5ca-ac18f2bb51c7",
   "metadata": {},
   "outputs": [],
   "source": []
  }
 ],
 "metadata": {
  "kernelspec": {
   "display_name": "Python 3 (ipykernel)",
   "language": "python",
   "name": "python3"
  },
  "language_info": {
   "codemirror_mode": {
    "name": "ipython",
    "version": 3
   },
   "file_extension": ".py",
   "mimetype": "text/x-python",
   "name": "python",
   "nbconvert_exporter": "python",
   "pygments_lexer": "ipython3",
   "version": "3.11.5"
  }
 },
 "nbformat": 4,
 "nbformat_minor": 5
}
